{
 "cells": [
  {
   "cell_type": "code",
   "execution_count": 16,
   "id": "25fe2a7f-8a3f-4cb2-a948-438402d23a8b",
   "metadata": {},
   "outputs": [
    {
     "name": "stdin",
     "output_type": "stream",
     "text": [
      "첫 번째 문자열: hello world\n",
      "두 번째 문자열: how are you\n"
     ]
    },
    {
     "name": "stdout",
     "output_type": "stream",
     "text": [
      "공통적인 글자 e h r w o   "
     ]
    }
   ],
   "source": [
    "#lab: 문자열의 공통 문자\n",
    "str1 = set(input(\"첫 번째 문자열:\"))\n",
    "str2 = set(input(\"두 번째 문자열:\"))\n",
    "gyo = list(str1&str2)\n",
    "print(f\"공통적인 글자\", end=\" \")\n",
    "for i in gyo:\n",
    "    print(i, end=\" \")"
   ]
  },
  {
   "cell_type": "code",
   "execution_count": 20,
   "id": "ef997808-7dfe-47ed-8f9c-bfbc70db4525",
   "metadata": {},
   "outputs": [
    {
     "name": "stdin",
     "output_type": "stream",
     "text": [
      "입력 텍스트: hello world\n"
     ]
    },
    {
     "name": "stdout",
     "output_type": "stream",
     "text": [
      "사용된 단어의 개수= 2\n",
      "{'world', 'hello'}\n"
     ]
    }
   ],
   "source": [
    "#lab: 중복되지 않은 단어의 개수 세기\n",
    "ip = input(\"입력 텍스트:\")\n",
    "words = ip.split(\" \")\n",
    "words = set(words)\n",
    "num = len(words)\n",
    "print(\"사용된 단어의 개수=\", num)\n",
    "print(words)"
   ]
  },
  {
   "cell_type": "code",
   "execution_count": 29,
   "id": "b6852078-5405-4601-976b-e1e7889eb3b0",
   "metadata": {},
   "outputs": [
    {
     "name": "stdin",
     "output_type": "stream",
     "text": [
      "단어를 입력하시오: one\n"
     ]
    },
    {
     "name": "stdout",
     "output_type": "stream",
     "text": [
      "하나\n"
     ]
    }
   ],
   "source": [
    "#lab: 영한 사전\n",
    "ek = {\"one\":\"하나\",\"two\":\"둘\",\"three\":\"셋\"}\n",
    "a = input(\"단어를 입력하시오:\")\n",
    "print(ek[a])"
   ]
  },
  {
   "cell_type": "code",
   "execution_count": 31,
   "id": "d9d32b86-79c2-45b4-8a95-9389477c9e8f",
   "metadata": {},
   "outputs": [
    {
     "name": "stdout",
     "output_type": "stream",
     "text": [
      "1. 연락처 추가\n",
      "2. 연락처 삭제\n",
      "3. 연락처 검색\n",
      "4. 연락처 출력\n",
      "5. 종료\n"
     ]
    },
    {
     "name": "stdin",
     "output_type": "stream",
     "text": [
      "메뉴 항목을 선택하시오: 1\n",
      "이름: 임재현\n",
      "전화번호: 8820\n"
     ]
    },
    {
     "name": "stdout",
     "output_type": "stream",
     "text": [
      "1. 연락처 추가\n",
      "2. 연락처 삭제\n",
      "3. 연락처 검색\n",
      "4. 연락처 출력\n",
      "5. 종료\n"
     ]
    },
    {
     "name": "stdin",
     "output_type": "stream",
     "text": [
      "메뉴 항목을 선택하시오: 3\n",
      "이름: 임재현\n"
     ]
    },
    {
     "name": "stdout",
     "output_type": "stream",
     "text": [
      "전화번호: 8820\n",
      "1. 연락처 추가\n",
      "2. 연락처 삭제\n",
      "3. 연락처 검색\n",
      "4. 연락처 출력\n",
      "5. 종료\n"
     ]
    },
    {
     "name": "stdin",
     "output_type": "stream",
     "text": [
      "메뉴 항목을 선택하시오: 3\n",
      "이름: ㄴ\n"
     ]
    },
    {
     "name": "stdout",
     "output_type": "stream",
     "text": [
      "ㄴ은 없습니다.\n",
      "1. 연락처 추가\n",
      "2. 연락처 삭제\n",
      "3. 연락처 검색\n",
      "4. 연락처 출력\n",
      "5. 종료\n"
     ]
    },
    {
     "name": "stdin",
     "output_type": "stream",
     "text": [
      "메뉴 항목을 선택하시오: 2\n",
      "이름: ㅇ\n"
     ]
    },
    {
     "name": "stdout",
     "output_type": "stream",
     "text": [
      "ㅇ을 찾을 수 없습니다.\n",
      "1. 연락처 추가\n",
      "2. 연락처 삭제\n",
      "3. 연락처 검색\n",
      "4. 연락처 출력\n",
      "5. 종료\n"
     ]
    },
    {
     "name": "stdin",
     "output_type": "stream",
     "text": [
      "메뉴 항목을 선택하시오: 2\n",
      "이름: 임재현\n"
     ]
    },
    {
     "name": "stdout",
     "output_type": "stream",
     "text": [
      "임재현 삭제 완료\n",
      "1. 연락처 추가\n",
      "2. 연락처 삭제\n",
      "3. 연락처 검색\n",
      "4. 연락처 출력\n",
      "5. 종료\n"
     ]
    },
    {
     "name": "stdin",
     "output_type": "stream",
     "text": [
      "메뉴 항목을 선택하시오: 4\n"
     ]
    },
    {
     "name": "stdout",
     "output_type": "stream",
     "text": [
      "1. 연락처 추가\n",
      "2. 연락처 삭제\n",
      "3. 연락처 검색\n",
      "4. 연락처 출력\n",
      "5. 종료\n"
     ]
    },
    {
     "name": "stdin",
     "output_type": "stream",
     "text": [
      "메뉴 항목을 선택하시오: 1\n",
      "이름: 임재현\n",
      "전화번호: 8820\n"
     ]
    },
    {
     "name": "stdout",
     "output_type": "stream",
     "text": [
      "1. 연락처 추가\n",
      "2. 연락처 삭제\n",
      "3. 연락처 검색\n",
      "4. 연락처 출력\n",
      "5. 종료\n"
     ]
    },
    {
     "name": "stdin",
     "output_type": "stream",
     "text": [
      "메뉴 항목을 선택하시오: 4\n"
     ]
    },
    {
     "name": "stdout",
     "output_type": "stream",
     "text": [
      "임재현의 전화번호: 8820\n",
      "1. 연락처 추가\n",
      "2. 연락처 삭제\n",
      "3. 연락처 검색\n",
      "4. 연락처 출력\n",
      "5. 종료\n"
     ]
    },
    {
     "name": "stdin",
     "output_type": "stream",
     "text": [
      "메뉴 항목을 선택하시오: 1\n",
      "이름: 박세진\n",
      "전화번호: 2023\n"
     ]
    },
    {
     "name": "stdout",
     "output_type": "stream",
     "text": [
      "1. 연락처 추가\n",
      "2. 연락처 삭제\n",
      "3. 연락처 검색\n",
      "4. 연락처 출력\n",
      "5. 종료\n"
     ]
    },
    {
     "name": "stdin",
     "output_type": "stream",
     "text": [
      "메뉴 항목을 선택하시오: 4\n"
     ]
    },
    {
     "name": "stdout",
     "output_type": "stream",
     "text": [
      "임재현의 전화번호: 8820\n",
      "박세진의 전화번호: 2023\n",
      "1. 연락처 추가\n",
      "2. 연락처 삭제\n",
      "3. 연락처 검색\n",
      "4. 연락처 출력\n",
      "5. 종료\n"
     ]
    },
    {
     "name": "stdin",
     "output_type": "stream",
     "text": [
      "메뉴 항목을 선택하시오: 5\n"
     ]
    }
   ],
   "source": [
    "#lab: 친구 관리 프로그램\n",
    "def one(fdic):#dictionary의 주소값이 list처럼 call by ref 형태로 호출되기에 실제 dictionary에도 반영됨\n",
    "    name = input(\"이름:\")\n",
    "    phone = input(\"전화번호:\")\n",
    "    fdic[name] = phone\n",
    "def two(fdic):\n",
    "    name = input(\"이름:\")\n",
    "    if name in fdic:\n",
    "        fdic.pop(name)\n",
    "        print(name,\"삭제 완료\")\n",
    "    else:\n",
    "        print(f\"{name}을 찾을 수 없습니다.\")\n",
    "def three(fdic):\n",
    "    name = input(\"이름:\")\n",
    "    if name in fdic:\n",
    "        print(\"전화번호:\",fdic[name])\n",
    "    else:\n",
    "        print(f\"{name}은 없습니다.\")\n",
    "def four(fdic):\n",
    "    for key, value in fdic.items():\n",
    "        print(f\"{key}의 전화번호: {value}\")\n",
    "\n",
    "fdic = {}\n",
    "menu = 0\n",
    "while(menu != 5):\n",
    "    print(\"1. 연락처 추가\")\n",
    "    print(\"2. 연락처 삭제\")\n",
    "    print(\"3. 연락처 검색\")\n",
    "    print(\"4. 연락처 출력\")\n",
    "    print(\"5. 종료\")\n",
    "    menu = int(input(\"메뉴 항목을 선택하시오:\"))\n",
    "    if menu == 1:\n",
    "        one(fdic)\n",
    "    elif menu ==2:\n",
    "        two(fdic)\n",
    "    elif menu ==3:\n",
    "        three(fdic)\n",
    "    elif menu ==4:\n",
    "        four(fdic)"
   ]
  },
  {
   "cell_type": "code",
   "execution_count": 32,
   "id": "ebf3a223-12a9-4e73-86ef-4f5896e06797",
   "metadata": {},
   "outputs": [
    {
     "name": "stdout",
     "output_type": "stream",
     "text": [
      "Kim의 평균성적 = 92.33333333333333\n",
      "Lee의 평균성적 = 63.666666666666664\n",
      "Choi의 평균성적 = 50.0\n"
     ]
    }
   ],
   "source": [
    "#lab: 학생 성적 처리\n",
    "score_dic = {\"Kim\": [99,83,95], \"Lee\":[68,45,78], \"Choi\":[25,56,69]}\n",
    "for name, score_list in score_dic.items():\n",
    "    print(f\"{name}의 평균성적 = {sum(score_list)/len(score_list)}\")"
   ]
  },
  {
   "cell_type": "code",
   "execution_count": 34,
   "id": "d09a5058-09d2-4b1b-bcf1-96c3b19f1a5d",
   "metadata": {},
   "outputs": [
    {
     "name": "stdout",
     "output_type": "stream",
     "text": [
      "Create의 등장횟수 = 1\n",
      "the의 등장횟수 = 1\n",
      "highest,의 등장횟수 = 1\n",
      "grandest의 등장횟수 = 1\n",
      "vision의 등장횟수 = 1\n",
      "possible의 등장횟수 = 1\n",
      "for의 등장횟수 = 1\n",
      "your의 등장횟수 = 1\n",
      "life,의 등장횟수 = 1\n",
      "because의 등장횟수 = 1\n",
      "you의 등장횟수 = 2\n",
      "become의 등장횟수 = 1\n",
      "what의 등장횟수 = 1\n",
      "believe의 등장횟수 = 1\n"
     ]
    }
   ],
   "source": [
    "#lab: 단어 카운터 만들기\n",
    "text_data = \"Create the highest, grandest vision possible for your life, because you become what you believe\"\n",
    "wordic={}\n",
    "words_list = text_data.split(\" \")\n",
    "for w1 in words_list:\n",
    "    number = 0\n",
    "    for w2 in words_list:\n",
    "        if(w1==w2):\n",
    "            number += 1\n",
    "    wordic[w1] = number\n",
    "for word, number in wordic.items():\n",
    "    print(f\"{word}의 등장횟수 = {number}\")"
   ]
  },
  {
   "cell_type": "code",
   "execution_count": 33,
   "id": "2e36dcf0-f7da-4544-ad2e-129bd4ad941f",
   "metadata": {},
   "outputs": [
    {
     "name": "stdin",
     "output_type": "stream",
     "text": [
      "문자열을 입력하시오: cis\n"
     ]
    },
    {
     "name": "stdout",
     "output_type": "stream",
     "text": [
      "회문이 아닙니다.\n"
     ]
    }
   ],
   "source": [
    "#lab: 회문 검사하기\n",
    "n=0\n",
    "en = input(\"문자열을 입력하시오:\")\n",
    "mid = len(en)//2\n",
    "front = list(en[:mid])\n",
    "back = list(en[-1:mid:-1])\n",
    "total = zip(front, back)\n",
    "for f, b in total:\n",
    "    if(f!=b):\n",
    "        print(\"회문이 아닙니다.\")\n",
    "        break\n",
    "    n += 1\n",
    "    if(n == mid-1 or mid == 1):\n",
    "        print(\"회문입니다.\")\n"
   ]
  },
  {
   "cell_type": "code",
   "execution_count": 39,
   "id": "070658e7-f778-4c00-9afd-924f75eb44da",
   "metadata": {},
   "outputs": [
    {
     "name": "stdin",
     "output_type": "stream",
     "text": [
      "문자열을 입력하시오: Lim Jae Hyun\n"
     ]
    },
    {
     "name": "stdout",
     "output_type": "stream",
     "text": [
      "LJH\n"
     ]
    }
   ],
   "source": [
    "#lab: 머리 글자어 만들기\n",
    "name = input(\"문자열을 입력하시오:\")\n",
    "name_list = [x[0] for x in name.split(\" \")]\n",
    "organ = \"\".join(name_list)\n",
    "print(organ)"
   ]
  },
  {
   "cell_type": "code",
   "execution_count": 40,
   "id": "2d92aab4-e5c2-46ef-a64d-502b8e78ccc4",
   "metadata": {},
   "outputs": [
    {
     "name": "stdin",
     "output_type": "stream",
     "text": [
      "이메일 주소를 입력하시오: dlawogus0808@cau.ac.kr\n"
     ]
    },
    {
     "name": "stdout",
     "output_type": "stream",
     "text": [
      "dlawogus0808@cau.ac.kr\n",
      "아이디:dlawogus0808\n",
      "도메인:cau.ac.kr\n"
     ]
    }
   ],
   "source": [
    "#lab: 이메일 주소 분석\n",
    "email = input(\"이메일 주소를 입력하시오:\")\n",
    "print(email)\n",
    "alpha = email.find(\"@\")\n",
    "iden = email[:alpha]\n",
    "domain = email[alpha+1:]\n",
    "print(f\"아이디:{iden}\")\n",
    "print(f\"도메인:{domain}\")"
   ]
  },
  {
   "cell_type": "code",
   "execution_count": 53,
   "id": "c9fb89b6-3271-43b6-98e2-bfe1a5e91e19",
   "metadata": {},
   "outputs": [
    {
     "name": "stdin",
     "output_type": "stream",
     "text": [
      "문자열을 입력하시오: ljh 38 psj 7\n"
     ]
    },
    {
     "name": "stdout",
     "output_type": "stream",
     "text": [
      "{'digits': 3, 'spaces': 3, 'alphas': 6}\n"
     ]
    }
   ],
   "source": [
    "#lab: 문자열 분석\n",
    "s = input(\"문자열을 입력하시오:\")\n",
    "space = s.count(\" \")\n",
    "alpha = 0\n",
    "digit = 0\n",
    "for al in s:\n",
    "    if al.isalpha():\n",
    "        alpha += 1\n",
    "for di in s:\n",
    "    if di.isdigit():\n",
    "        digit += 1\n",
    "\n",
    "dic = {}\n",
    "dic[\"digits\"] = digit\n",
    "dic[\"spaces\"] = space\n",
    "dic[\"alphas\"] = alpha\n",
    "print(dic)"
   ]
  },
  {
   "cell_type": "code",
   "execution_count": null,
   "id": "7a01af6d-5b97-4bd1-bc07-6c61ed9de7b2",
   "metadata": {},
   "outputs": [],
   "source": []
  }
 ],
 "metadata": {
  "kernelspec": {
   "display_name": "Python 3 (ipykernel)",
   "language": "python",
   "name": "python3"
  },
  "language_info": {
   "codemirror_mode": {
    "name": "ipython",
    "version": 3
   },
   "file_extension": ".py",
   "mimetype": "text/x-python",
   "name": "python",
   "nbconvert_exporter": "python",
   "pygments_lexer": "ipython3",
   "version": "3.13.5"
  }
 },
 "nbformat": 4,
 "nbformat_minor": 5
}
