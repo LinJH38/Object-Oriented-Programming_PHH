{
 "cells": [
  {
   "cell_type": "code",
   "execution_count": 6,
   "id": "b4ee8d25-7975-45c1-9886-c23a4051a475",
   "metadata": {},
   "outputs": [
    {
     "name": "stdout",
     "output_type": "stream",
     "text": [
      "channel: 12, volume: 21, on\n",
      "channel: 38\n"
     ]
    }
   ],
   "source": [
    "#lab: TV 클래스 정의\n",
    "class TV:\n",
    "    def __init__(self, channel = 0, volume = 0, on = \"on\"):\n",
    "        self.channel = channel\n",
    "        self.volume = volume\n",
    "        self.on = on\n",
    "    def show(self):\n",
    "        print(f\"channel: {self.channel}, volume: {self.volume}, {self.on}\")\n",
    "    def setChannel(self, change = 0):\n",
    "        self.channel = change\n",
    "    def getChannel(self):\n",
    "        print(f\"channel: {self.channel}\")\n",
    "a = TV(12, 21)\n",
    "a.show()\n",
    "a.setChannel(38)\n",
    "a.getChannel()"
   ]
  },
  {
   "cell_type": "code",
   "execution_count": 7,
   "id": "67630d69-a647-4a9e-9d50-905465507a9e",
   "metadata": {},
   "outputs": [
    {
     "name": "stdout",
     "output_type": "stream",
     "text": [
      "원의 면적 314.0\n",
      "원의 둘레 62.800000000000004\n"
     ]
    }
   ],
   "source": [
    "#lab: 원 클래스 정의\n",
    "pi = 3.14\n",
    "class Circle:\n",
    "    def __init__(self, radius=5):\n",
    "        self.radius = radius\n",
    "    def getArea(self):\n",
    "        print(\"원의 면적\", pi*self.radius**2)\n",
    "    def getPrimeter(self):\n",
    "        print(\"원의 둘레\", 2*pi*self.radius)\n",
    "c = Circle(10)\n",
    "c.getArea()\n",
    "c.getPrimeter()"
   ]
  },
  {
   "cell_type": "code",
   "execution_count": 13,
   "id": "6f02d490-0b52-4fd4-8231-cb513c53df02",
   "metadata": {},
   "outputs": [
    {
     "name": "stdout",
     "output_type": "stream",
     "text": [
      "자동차 객체를 생성하였습니다.\n",
      "자동차의 속도는 0\n",
      "자동차의 색상은 blue\n",
      "자동차의 모델은 e-class\n",
      "자동차의 속도는 180\n"
     ]
    }
   ],
   "source": [
    "#Lab: 자동차 클래스 정의\n",
    "class car:\n",
    "    def __init__(self, speed=0, color=\"black\", model=\"volvo\"):\n",
    "        self.speed = speed\n",
    "        self.color = color\n",
    "        self.model = model\n",
    "    def velro(self, v=0):\n",
    "        self.speed = v\n",
    "\n",
    "r = car(color=\"blue\", model=\"e-class\")\n",
    "print(\"자동차 객체를 생성하였습니다.\")\n",
    "print(\"자동차의 속도는\", r.speed)\n",
    "print(\"자동차의 색상은\", r.color)\n",
    "print(\"자동차의 모델은\", r.model)\n",
    "r.velro(180)\n",
    "print(\"자동차의 속도는\", r.speed)"
   ]
  },
  {
   "cell_type": "code",
   "execution_count": 15,
   "id": "a2197a42-6bee-417e-b53e-d75725d1debc",
   "metadata": {},
   "outputs": [
    {
     "name": "stdout",
     "output_type": "stream",
     "text": [
      "통장에서 100 가 출금되었음\n",
      "통장에서 10 가 입금되었음\n",
      "잔액: 910\n"
     ]
    }
   ],
   "source": [
    "#lab: 은행 계좌\n",
    "class bank:\n",
    "    def __init__(self):\n",
    "        self.__balance = 1000\n",
    "    def withdraw(self, money):\n",
    "        self.__balance -= money\n",
    "        print(\"통장에서\", money, \"가 출금되었음\")\n",
    "    def deposit(self, money):\n",
    "        self.__balance += money\n",
    "        print(\"통장에서\", money, \"가 입금되었음\")\n",
    "    def getmoney(self):\n",
    "        return self.__balance\n",
    "ac = bank()\n",
    "ac.withdraw(100)\n",
    "ac.deposit(10)\n",
    "remain = ac.getmoney()\n",
    "print(f\"잔액: {remain}\")"
   ]
  },
  {
   "cell_type": "code",
   "execution_count": 1,
   "id": "17419c26-c23b-4627-acc1-a42fe592e496",
   "metadata": {},
   "outputs": [
    {
     "name": "stdout",
     "output_type": "stream",
     "text": [
      "(4, 6)\n"
     ]
    }
   ],
   "source": [
    "#lab: 클래스 변수\n",
    "class vector:\n",
    "    def __init__(self, x=0, y=0):\n",
    "        self.x = x\n",
    "        self.y = y\n",
    "    def __add__(self, other):\n",
    "        return vector(self.x+other.x, self.y+other.y)\n",
    "    def __sub__(self, other):\n",
    "        return vector(self.x-other.x, self.y-other.y)\n",
    "    def __str__(self):\n",
    "        return '(%g, %g)' % (self.x, self.y)\n",
    "j = vector(1,2)\n",
    "k = vector(3,4)\n",
    "l = j+k\n",
    "print(l)"
   ]
  },
  {
   "cell_type": "code",
   "execution_count": 2,
   "id": "827eba28-c37f-4667-bcf4-e93e602c710b",
   "metadata": {},
   "outputs": [
    {
     "name": "stdout",
     "output_type": "stream",
     "text": [
      "1350\n"
     ]
    }
   ],
   "source": [
    "#lab: Book 클래스\n",
    "class Book:\n",
    "    def __init__(self, title = '', pages = 0):\n",
    "        self.title = title\n",
    "        self.pages = pages\n",
    "    def __add__(self, other):\n",
    "        return self.pages + other.pages\n",
    "book1 = Book('harry porter1', 620)\n",
    "book2 = Book('harry porter2', 730)\n",
    "page = book1 + book2\n",
    "print(page)"
   ]
  }
 ],
 "metadata": {
  "kernelspec": {
   "display_name": "Python 3 (ipykernel)",
   "language": "python",
   "name": "python3"
  },
  "language_info": {
   "codemirror_mode": {
    "name": "ipython",
    "version": 3
   },
   "file_extension": ".py",
   "mimetype": "text/x-python",
   "name": "python",
   "nbconvert_exporter": "python",
   "pygments_lexer": "ipython3",
   "version": "3.13.5"
  }
 },
 "nbformat": 4,
 "nbformat_minor": 5
}
