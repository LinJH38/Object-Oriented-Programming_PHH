{
 "cells": [
  {
   "cell_type": "code",
   "execution_count": 13,
   "id": "8d51fb46-6b9c-4725-8d2e-99bc3b02fddc",
   "metadata": {},
   "outputs": [
    {
     "name": "stdin",
     "output_type": "stream",
     "text": [
      "input radius: 3\n"
     ]
    },
    {
     "name": "stdout",
     "output_type": "stream",
     "text": [
      "28.26\n"
     ]
    }
   ],
   "source": [
    "#중간점검\n",
    "radius = int(input('input radius:'))\n",
    "area = radius**2*3.14\n",
    "print(area)"
   ]
  },
  {
   "cell_type": "code",
   "execution_count": 14,
   "id": "b485a004-7ed8-46a4-bc38-ece17a5fb21f",
   "metadata": {},
   "outputs": [
    {
     "name": "stdout",
     "output_type": "stream",
     "text": [
      "4.227972264501945\n"
     ]
    }
   ],
   "source": [
    "#lab: 별까지의 거리 계산하기\n",
    "dist = 40*10**12\n",
    "v = 3*10**5\n",
    "t = dist / v\n",
    "year = t / (3600 * 24 * 365)\n",
    "print(year)"
   ]
  },
  {
   "cell_type": "code",
   "execution_count": 15,
   "id": "f7a99a13-b71f-467c-96de-85433204a559",
   "metadata": {},
   "outputs": [
    {
     "name": "stdout",
     "output_type": "stream",
     "text": [
      "면적= 15.0\n"
     ]
    }
   ],
   "source": [
    "#중간점검\n",
    "k = 300\n",
    "width = 3.0 #너비\n",
    "height = 5.0 #높이\n",
    "print(\"면적=\", width*height) #면적 계산 및 출력"
   ]
  },
  {
   "cell_type": "code",
   "execution_count": 16,
   "id": "f5498525-ed7a-47fb-b52f-24175056332b",
   "metadata": {},
   "outputs": [
    {
     "name": "stdout",
     "output_type": "stream",
     "text": [
      "반지름= 5 높이= 10 원기둥의 부피= 785.0\n"
     ]
    }
   ],
   "source": [
    "#lab: 원기둥의 부피 계산\n",
    "r = 5\n",
    "h = 10\n",
    "print(\"반지름=\", r, \"높이=\", h, \"원기둥의 부피=\", 3.14*r**2*h)"
   ]
  },
  {
   "cell_type": "code",
   "execution_count": 17,
   "id": "1a320a67-3e23-486d-a725-6554adbe7f0e",
   "metadata": {},
   "outputs": [
    {
     "name": "stdout",
     "output_type": "stream",
     "text": [
      "원리금 합계= 111442737812.28842\n"
     ]
    }
   ],
   "source": [
    "#lab: 복리 계산\n",
    "a=24\n",
    "r=0.06\n",
    "n = 382\n",
    "result = a*(1+r)**n\n",
    "\n",
    "print(\"원리금 합계=\", result)"
   ]
  },
  {
   "cell_type": "code",
   "execution_count": 18,
   "id": "657008c1-58bd-4ac5-9e99-495b17cdae8a",
   "metadata": {},
   "outputs": [
    {
     "name": "stdin",
     "output_type": "stream",
     "text": [
      "경기장은 어디입니까? 대구\n",
      "이긴팀은 어디입니까? 삼성\n",
      "진팀은 어디입니까? KT\n",
      "우수선수는 누구입니까? 김현준\n",
      "스코어는 몇대몇입니까? 3:0\n"
     ]
    },
    {
     "name": "stdout",
     "output_type": "stream",
     "text": [
      "오늘 대구 에서 야구 경기가 열렸습니다.\n",
      " 삼성 과 KT 는 치열한 공방전을 펼쳤습니다.\n",
      " 김현준 이 맹활약을 하였습니다.\n",
      "\n"
     ]
    }
   ],
   "source": [
    "#lab: 로봇 기자 만들기\n",
    "stad = input(\"경기장은 어디입니까?\")\n",
    "win = input(\"이긴팀은 어디입니까?\")\n",
    "los = input(\"진팀은 어디입니까?\")\n",
    "mvp = input(\"우수선수는 누구입니까?\")\n",
    "score = input(\"스코어는 몇대몇입니까?\")\n",
    "\n",
    "print(\"오늘\", stad, \"에서 야구 경기가 열렸습니다.\\n\",win,\"과\",los,\"는 치열한 공방전을 펼쳤습니다.\\n\",mvp,\"이 맹활약을 하였습니다.\\n\")"
   ]
  },
  {
   "cell_type": "code",
   "execution_count": 1,
   "id": "2ebd3d78-d607-43fa-8c22-8df1c182aad1",
   "metadata": {},
   "outputs": [
    {
     "name": "stdout",
     "output_type": "stream",
     "text": [
      "안녕하세요?\n"
     ]
    },
    {
     "name": "stdin",
     "output_type": "stream",
     "text": [
      "이름이 어떻게 되시나요? 임재현\n"
     ]
    },
    {
     "name": "stdout",
     "output_type": "stream",
     "text": [
      "만나서 반갑습니다. 임재현씨\n",
      "이름의 길이는 다음과 같군요: 3\n"
     ]
    },
    {
     "name": "stdin",
     "output_type": "stream",
     "text": [
      "나이가 어떻게 되나요? 21\n"
     ]
    },
    {
     "name": "stdout",
     "output_type": "stream",
     "text": [
      "내년이면 22이 되시는군요.\n"
     ]
    }
   ],
   "source": [
    "#lab: 대화하는 프로그램 만들기\n",
    "print(\"안녕하세요?\")\n",
    "name = input(\"이름이 어떻게 되시나요?\")\n",
    "print(f\"만나서 반갑습니다. {name}씨\")\n",
    "print(f\"이름의 길이는 다음과 같군요: {len(name)}\")\n",
    "age = eval(input(\"나이가 어떻게 되나요?\"))\n",
    "print(f\"내년이면 {age+1}이 되시는군요.\")"
   ]
  },
  {
   "cell_type": "code",
   "execution_count": 2,
   "id": "5d5fd9cf-21d6-47b1-8b76-9f30fa83be1f",
   "metadata": {},
   "outputs": [
    {
     "name": "stdin",
     "output_type": "stream",
     "text": [
      "몸무게를 kg단위로 입력하시오: 85.0\n",
      "키를 미터 단위로 입력하시오: 1.83\n"
     ]
    },
    {
     "name": "stdout",
     "output_type": "stream",
     "text": [
      "당신의 BMI=25.381468541909282\n"
     ]
    }
   ],
   "source": [
    "#lab: BMI 계산하기\n",
    "k = float(input(\"몸무게를 kg단위로 입력하시오:\"))\n",
    "h = float(input(\"키를 미터 단위로 입력하시오:\"))\n",
    "print(f\"당신의 BMI={k/h**2}\")"
   ]
  },
  {
   "cell_type": "code",
   "execution_count": 5,
   "id": "26e462c2-f7c8-4698-b0f5-f42561662c5d",
   "metadata": {},
   "outputs": [
    {
     "name": "stdin",
     "output_type": "stream",
     "text": [
      "반지름을 입력하시오: 5.0\n"
     ]
    },
    {
     "name": "stdout",
     "output_type": "stream",
     "text": [
      "구의 부피=523.3333333333334\n"
     ]
    }
   ],
   "source": [
    "#lab: 구의 부피 계산하기\n",
    "r = float(input(\"반지름을 입력하시오:\"))\n",
    "print(f\"구의 부피={(4*3.14*r**3)/3}\")"
   ]
  },
  {
   "cell_type": "code",
   "execution_count": 12,
   "id": "3865b761-5779-4a42-8d23-5cbd7b2a7f12",
   "metadata": {},
   "outputs": [
    {
     "name": "stdin",
     "output_type": "stream",
     "text": [
      "물건값을 입력하시오: 750\n",
      "1000원 지폐개수: 1\n",
      "500원 지폐개수: 0\n",
      "100원 지폐개수: 0\n"
     ]
    },
    {
     "name": "stdout",
     "output_type": "stream",
     "text": [
      "250\n",
      "거스름돈\n",
      "500원=0 100원=2 10원=5 1원=0\n"
     ]
    }
   ],
   "source": [
    "#lab: 자동판매기 프로그램\n",
    "c500, c100, c10, c1 = 0, 0, 0, 0  #다중변수 대입 가능!!!!!!!!!!!!!!!!!!!!!!!!!!!!!!!!!!!!!!!!!!!!!!!!!!!!!!!!!!!!!!!튜플이 아님 따라서 c100=2와 같은 연산 가능\n",
    "v = int(input(\"물건값을 입력하시오:\"))\n",
    "r1000 = int(input(\"1000원 지폐개수:\"))\n",
    "r500 = int(input(\"500원 지폐개수:\"))\n",
    "r100 = int(input(\"100원 지폐개수:\"))\n",
    "r = (r1000*1000)+(r500*500)+(r100*100)-v\n",
    "\n",
    "while(r >= 500):\n",
    "    c500 += 1\n",
    "    r = r-500\n",
    "while(r >= 100):\n",
    "    c100 += 1\n",
    "    r = r-100\n",
    "while(r >= 10):\n",
    "    c10 += 1\n",
    "    r = r-10\n",
    "while(r >= 1):\n",
    "    c1 += 1\n",
    "    r = r-1\n",
    "\n",
    "print(\"거스름돈\")\n",
    "print(f\"500원={c500} 100원={c100} 10원={c10} 1원={c1}\")"
   ]
  }
 ],
 "metadata": {
  "kernelspec": {
   "display_name": "Python 3 (ipykernel)",
   "language": "python",
   "name": "python3"
  },
  "language_info": {
   "codemirror_mode": {
    "name": "ipython",
    "version": 3
   },
   "file_extension": ".py",
   "mimetype": "text/x-python",
   "name": "python",
   "nbconvert_exporter": "python",
   "pygments_lexer": "ipython3",
   "version": "3.13.5"
  }
 },
 "nbformat": 4,
 "nbformat_minor": 5
}
