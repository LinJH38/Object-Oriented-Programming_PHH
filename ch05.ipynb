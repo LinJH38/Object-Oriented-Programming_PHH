{
 "cells": [
  {
   "cell_type": "code",
   "execution_count": 9,
   "id": "2ecb278f-a178-41f9-8636-e5a53e2d948d",
   "metadata": {},
   "outputs": [
    {
     "name": "stdin",
     "output_type": "stream",
     "text": [
      "r: 2\n",
      "number: 2\n"
     ]
    },
    {
     "name": "stdout",
     "output_type": "stream",
     "text": [
      "2pizza 2's total: 25.12\n"
     ]
    },
    {
     "name": "stdin",
     "output_type": "stream",
     "text": [
      "rL 2\n",
      "number: 2\n"
     ]
    },
    {
     "name": "stdout",
     "output_type": "stream",
     "text": [
      "2.0pizza 2's total: 25.12\n"
     ]
    }
   ],
   "source": [
    "#lab: 피자 크기 비교\n",
    "def total(r, number):\n",
    " area = 3.14 * r**2\n",
    " print(f\"{r}pizza {number}'s total: {area*number}\")\n",
    "total(int(input('r:')), int(input('number:')))\n",
    "total(float(input('rL')), int(input('number:')))"
   ]
  },
  {
   "cell_type": "code",
   "execution_count": 3,
   "id": "73a7d7e1-21e3-437b-ad78-c07921d31c3b",
   "metadata": {},
   "outputs": [
    {
     "name": "stdin",
     "output_type": "stream",
     "text": [
      "msg: 환영합니다\n",
      "count: 6\n"
     ]
    },
    {
     "name": "stdout",
     "output_type": "stream",
     "text": [
      "환영합니다\n",
      "환영합니다\n",
      "환영합니다\n",
      "환영합니다\n",
      "환영합니다\n",
      "환영합니다\n"
     ]
    }
   ],
   "source": [
    "#lab: 환영 문자열 출력 함수\n",
    "def display(msg, count):\n",
    " for i in range (count):#반복문 사용할 때, range 오른쪽에 무조건 ()감싸줘야함\n",
    "  print(msg)\n",
    "\n",
    "display(input('msg:'), int(input('count:')))"
   ]
  },
  {
   "cell_type": "code",
   "execution_count": 9,
   "id": "0e89fb83-bdc7-4cad-81b2-adce97a37716",
   "metadata": {},
   "outputs": [
    {
     "name": "stdin",
     "output_type": "stream",
     "text": [
      "rate per hour: 10000\n",
      "labor hour: 38\n"
     ]
    },
    {
     "name": "stdout",
     "output_type": "stream",
     "text": [
      "weekly pay:420000.0\n"
     ]
    }
   ],
   "source": [
    "#lab: 주급 계산 프로그램\n",
    "def weeklypay(rate, hour):\n",
    "    if(hour>=30):\n",
    "        return ((rate*30)+((rate)*1.5)*(hour-30))\n",
    "    return rate*hour\n",
    "\n",
    "print(f\"weekly pay:{weeklypay(float(input('rate per hour:')), float(input('labor hour:')))}\")"
   ]
  },
  {
   "cell_type": "code",
   "execution_count": 12,
   "id": "2f75a620-a7df-4325-b884-273ed485df71",
   "metadata": {},
   "outputs": [
    {
     "name": "stdin",
     "output_type": "stream",
     "text": [
      "이름: 임재현\n",
      "나이: 23\n"
     ]
    },
    {
     "name": "stdout",
     "output_type": "stream",
     "text": [
      "이름은 임재현이고 나이는 23 살입니다\n"
     ]
    }
   ],
   "source": [
    "#lab: 여러 개의 값 반환\n",
    "def id():\n",
    "    name = input(\"이름:\")\n",
    "    age = int(input(\"나이:\"))\n",
    "    return name, age #한 개는 str, 한 개는 int 형태\n",
    "\n",
    "n, a = id()\n",
    "print(f\"이름은 {n}이고 나이는 {a} 살입니다\")"
   ]
  }
 ],
 "metadata": {
  "kernelspec": {
   "display_name": "Python 3 (ipykernel)",
   "language": "python",
   "name": "python3"
  },
  "language_info": {
   "codemirror_mode": {
    "name": "ipython",
    "version": 3
   },
   "file_extension": ".py",
   "mimetype": "text/x-python",
   "name": "python",
   "nbconvert_exporter": "python",
   "pygments_lexer": "ipython3",
   "version": "3.13.5"
  }
 },
 "nbformat": 4,
 "nbformat_minor": 5
}
