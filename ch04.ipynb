{
 "cells": [
  {
   "cell_type": "code",
   "execution_count": 5,
   "id": "0e80e095-34bf-48e1-a897-e62bc3ae0519",
   "metadata": {},
   "outputs": [
    {
     "name": "stdin",
     "output_type": "stream",
     "text": [
      "정수를 입력하시오: 10\n"
     ]
    },
    {
     "name": "stdout",
     "output_type": "stream",
     "text": [
      "10!은 3628800이다.\n"
     ]
    }
   ],
   "source": [
    "#lab: 팩토리얼 계산하기\n",
    "fact = int(input(\"정수를 입력하시오:\"))\n",
    "sum = 1\n",
    "for i in range(1, fact+1, 1):\n",
    "    sum *=i\n",
    "print(f\"{fact}!은 {sum}이다.\")"
   ]
  },
  {
   "cell_type": "code",
   "execution_count": 6,
   "id": "61133c1f-aa23-4a5a-b04a-9daa1b42d844",
   "metadata": {},
   "outputs": [
    {
     "name": "stdin",
     "output_type": "stream",
     "text": [
      "원하는 단은: 9\n"
     ]
    },
    {
     "name": "stdout",
     "output_type": "stream",
     "text": [
      "9*1=9\n",
      "9*2=18\n",
      "9*3=27\n",
      "9*4=36\n",
      "9*5=45\n",
      "9*6=54\n",
      "9*7=63\n",
      "9*8=72\n",
      "9*9=81\n"
     ]
    }
   ],
   "source": [
    "#lab: 구구단 출력\n",
    "n = int(input(\"원하는 단은:\"))\n",
    "for i in range(1,10,1):\n",
    "    print(f\"{n}*{i}={n*i}\")"
   ]
  },
  {
   "cell_type": "code",
   "execution_count": 7,
   "id": "79d0cab1-73d0-4a0f-b536-9b385d00bbe6",
   "metadata": {},
   "outputs": [
    {
     "name": "stdin",
     "output_type": "stream",
     "text": [
      "숫자를 입력하시오: 50\n"
     ]
    },
    {
     "name": "stdout",
     "output_type": "stream",
     "text": [
      "너무 큼!\n"
     ]
    },
    {
     "name": "stdin",
     "output_type": "stream",
     "text": [
      "숫자를 입력하시오: 25\n"
     ]
    },
    {
     "name": "stdout",
     "output_type": "stream",
     "text": [
      "너무 낮음!\n"
     ]
    },
    {
     "name": "stdin",
     "output_type": "stream",
     "text": [
      "숫자를 입력하시오: 33\n"
     ]
    },
    {
     "name": "stdout",
     "output_type": "stream",
     "text": [
      "너무 낮음!\n"
     ]
    },
    {
     "name": "stdin",
     "output_type": "stream",
     "text": [
      "숫자를 입력하시오: 39\n"
     ]
    },
    {
     "name": "stdout",
     "output_type": "stream",
     "text": [
      "너무 낮음!\n"
     ]
    },
    {
     "name": "stdin",
     "output_type": "stream",
     "text": [
      "숫자를 입력하시오: 44\n"
     ]
    },
    {
     "name": "stdout",
     "output_type": "stream",
     "text": [
      "너무 큼!\n"
     ]
    },
    {
     "name": "stdin",
     "output_type": "stream",
     "text": [
      "숫자를 입력하시오: 42\n"
     ]
    },
    {
     "name": "stdout",
     "output_type": "stream",
     "text": [
      "축하합니다. 시도횟수=6\n"
     ]
    }
   ],
   "source": [
    "#lab: 숫자 맞추기\n",
    "import random\n",
    "sol = random.randint(1,100)\n",
    "i = 0\n",
    "ans = 0\n",
    "while (sol != ans):\n",
    "    i +=1\n",
    "    ans = int(input(\"숫자를 입력하시오:\"))\n",
    "    if(ans<sol):\n",
    "     print(\"너무 낮음!\")\n",
    "    elif(ans>sol):\n",
    "     print(\"너무 큼!\")\n",
    "print(f\"축하합니다. 시도횟수={i}\")"
   ]
  },
  {
   "cell_type": "code",
   "execution_count": 13,
   "id": "8c671c97-8f1d-41aa-9a95-4aa759fbfeb0",
   "metadata": {},
   "outputs": [
    {
     "name": "stdout",
     "output_type": "stream",
     "text": [
      "첫 번째 주사위=1 두 번째 주사위=5\n",
      "첫 번째 주사위=2 두 번째 주사위=4\n",
      "첫 번째 주사위=3 두 번째 주사위=3\n",
      "첫 번째 주사위=4 두 번째 주사위=2\n",
      "첫 번째 주사위=5 두 번째 주사위=1\n"
     ]
    }
   ],
   "source": [
    "#lab: 주사위 합이 6이 되는 경우\n",
    "for d1 in range(1,7):\n",
    "    for d2 in range(1,7):\n",
    "        if d1+d2 == 6:\n",
    "            print(\"첫 번째 주사위=%d 두 번째 주사위=%d\" %(d1,d2)) #여기 formating 방법 잘 익혀두기 \"문자열~%d1 ~ %d2 ~ %dn\" %(d1, d2, dn)"
   ]
  },
  {
   "cell_type": "code",
   "execution_count": 14,
   "id": "49013f82-54b4-4f8f-89cd-aa93f37356e9",
   "metadata": {},
   "outputs": [
    {
     "name": "stdout",
     "output_type": "stream",
     "text": [
      "2 3 5 7 11 13 17 19 23 29 31 37 41 43 47 53 59 61 67 71 73 79 83 89 97 101 103 107 109 113 127 131 137 139 149 151 157 163 167 173 179 181 191 193 197 199 211 223 227 229 "
     ]
    }
   ],
   "source": [
    "#lab: 소수 찾기\n",
    "n = 2\n",
    "count = 0\n",
    "\n",
    "while True:\n",
    "    # 1) n이 소수인지 검사\n",
    "    i = 2\n",
    "    is_prime = True\n",
    "    while i < n:\n",
    "        if n % i == 0:\n",
    "            is_prime = False\n",
    "            break\n",
    "        i += 1\n",
    "    # 2) 소수라면 출력하고 카운트\n",
    "    if is_prime:\n",
    "        print(n, end=\" \")\n",
    "        count += 1\n",
    "        if count == 50:\n",
    "            break\n",
    "    # 3) 다음 숫자로\n",
    "    n += 1"
   ]
  },
  {
   "cell_type": "code",
   "execution_count": 28,
   "id": "e35b5216-a743-49dc-9ae4-f3d904723d78",
   "metadata": {},
   "outputs": [
    {
     "name": "stdin",
     "output_type": "stream",
     "text": [
      "반복횟수: 10000\n"
     ]
    },
    {
     "name": "stdout",
     "output_type": "stream",
     "text": [
      "pi=3.141493\n"
     ]
    }
   ],
   "source": [
    "#lab: 파이 계산하기\n",
    "n = int(input(\"반복횟수:\"))\n",
    "pi = 0\n",
    "i = 0\n",
    "state = 0\n",
    "for i in range(1,n*2,2):#n = 1, 3, 5, 7 <-i에 대입함 = 분모\n",
    "    if state == 0:#state = 0이면 양수 / 1이면 음수\n",
    "       pi += 4/i\n",
    "       state = 1\n",
    "    else:\n",
    "        pi -= 4/i\n",
    "        state = 0\n",
    "print(\"pi=%.6f\"%pi)"
   ]
  },
  {
   "cell_type": "code",
   "execution_count": null,
   "id": "af32382e-1ce4-498e-a40e-83b08dacdc64",
   "metadata": {},
   "outputs": [],
   "source": []
  }
 ],
 "metadata": {
  "kernelspec": {
   "display_name": "Python 3 (ipykernel)",
   "language": "python",
   "name": "python3"
  },
  "language_info": {
   "codemirror_mode": {
    "name": "ipython",
    "version": 3
   },
   "file_extension": ".py",
   "mimetype": "text/x-python",
   "name": "python",
   "nbconvert_exporter": "python",
   "pygments_lexer": "ipython3",
   "version": "3.13.5"
  }
 },
 "nbformat": 4,
 "nbformat_minor": 5
}
