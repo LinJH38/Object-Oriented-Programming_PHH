{
 "cells": [
  {
   "cell_type": "code",
   "execution_count": 5,
   "id": "eda68df8-43a4-49d7-88b7-a8054ea2e380",
   "metadata": {},
   "outputs": [
    {
     "name": "stdin",
     "output_type": "stream",
     "text": [
      "grade 10\n",
      "grade 20\n",
      "grade 60\n",
      "grade 70\n",
      "grade 80\n"
     ]
    },
    {
     "name": "stdout",
     "output_type": "stream",
     "text": [
      "avg= 48.0\n",
      "max= 80\n",
      "min= 10\n",
      "higher than 80=1\n"
     ]
    }
   ],
   "source": [
    "#lab: 성적처리프로그램1\n",
    "n=0\n",
    "grade=[]\n",
    "for i in range(0,5,1):\n",
    "    grade.append(int(input('grade')))\n",
    "avg = sum(grade)/len(grade)\n",
    "grade.sort(reverse=True)\n",
    "for element in grade:\n",
    "     if(element<80):\n",
    "         break\n",
    "     n+=1\n",
    "print(\"avg=\",avg)\n",
    "print(\"max=\",max(grade))\n",
    "print(\"min=\",min(grade))\n",
    "print(f\"higher than 80={n}\")"
   ]
  },
  {
   "cell_type": "code",
   "execution_count": 2,
   "id": "4ec7fab8-79ab-40cd-a1fe-814a35ed7f2d",
   "metadata": {},
   "outputs": [
    {
     "name": "stdin",
     "output_type": "stream",
     "text": [
      "성적을 입력하시오: 10\n",
      "성적을 입력하시오: 20\n",
      "성적을 입력하시오: 60\n",
      "성적을 입력하시오: 70\n",
      "성적을 입력하시오: 80\n"
     ]
    },
    {
     "name": "stdout",
     "output_type": "stream",
     "text": [
      "성적 평균= 48.0\n",
      "최대 점수= 80\n",
      "최소 점수= 10\n",
      "80점 이상= 1\n"
     ]
    }
   ],
   "source": [
    "#lab: 성적처리프로그램2\n",
    "scores = []\n",
    "o80 = 0\n",
    "for i in range(5):\n",
    "    scores.append(int(input(\"성적을 입력하시오:\")))\n",
    "    if scores[i]>=80:\n",
    "        o80 += 1\n",
    "print(\"성적 평균= %.1f\" %(sum(scores)/len(scores)))\n",
    "print(\"최대 점수= %d\" %max(scores))\n",
    "print(\"최소 점수= %d\" %min(scores))\n",
    "print(\"80점 이상= %d\" %o80)"
   ]
  },
  {
   "cell_type": "code",
   "execution_count": 4,
   "id": "dd91ba02-7155-488b-a80e-153b73a9e449",
   "metadata": {},
   "outputs": [
    {
     "name": "stdout",
     "output_type": "stream",
     "text": [
      "38\n"
     ]
    }
   ],
   "source": [
    "#lab: 리스트에서 2번째로 큰 수 찾기\n",
    "n_list = [-7, 2, 3, 8, 6, 6, 75, 38, 3, 2]\n",
    "n_list.sort(reverse=True)#method는 반환값이 없음. 따라서 기능 사용시 바로 적용됨\n",
    "print(n_list[1])"
   ]
  },
  {
   "cell_type": "code",
   "execution_count": 5,
   "id": "ed243202-0b49-44b5-bc8f-efab582d9415",
   "metadata": {},
   "outputs": [
    {
     "name": "stdout",
     "output_type": "stream",
     "text": [
      "제거전 [10.0, 9.0, 8.3, 7.1, 3.0, 9.0]\n",
      "제거후 [9.0, 8.3, 7.1, 9.0]\n"
     ]
    }
   ],
   "source": [
    "#lab: 콘테스트 평가\n",
    "scores = [10.0, 9.0, 8.3, 7.1, 3.0, 9.0]\n",
    "print(\"제거전\", scores)\n",
    "s_list = sorted(scores)\n",
    "max_val = s_list[-1]\n",
    "min_val = s_list[0]\n",
    "scores.remove(max_val)\n",
    "scores.remove(min_val)\n",
    "print(\"제거후\", scores)"
   ]
  },
  {
   "cell_type": "code",
   "execution_count": 8,
   "id": "d1cd3740-e158-4008-829e-16a0bd6988a3",
   "metadata": {},
   "outputs": [
    {
     "name": "stdin",
     "output_type": "stream",
     "text": [
      "과일을 입력하시오: apple\n",
      "과일을 입력하시오: orange\n",
      "과일을 입력하시오: grape\n"
     ]
    },
    {
     "name": "stdout",
     "output_type": "stream",
     "text": [
      "grape\n",
      "orange\n",
      "apple\n"
     ]
    }
   ],
   "source": [
    "#lab: 리스트로 스택 흉내내기\n",
    "fruits = []\n",
    "for i in range(3):\n",
    "    fruits.append(input(\"과일을 입력하시오:\"))\n",
    "for i in range(3):\n",
    "    print(fruits.pop()) #pop은 제거하면서 동시에 value 반환"
   ]
  },
  {
   "cell_type": "code",
   "execution_count": 15,
   "id": "403e6733-84a6-4e33-af1d-1b3eabe7389d",
   "metadata": {},
   "outputs": [
    {
     "name": "stdout",
     "output_type": "stream",
     "text": [
      "----------\n",
      "1. print your friend\n",
      "2. add friend\n",
      "3. delate friend\n",
      "4. change friend name\n",
      "9. break\n"
     ]
    },
    {
     "name": "stdin",
     "output_type": "stream",
     "text": [
      "choose menu 9\n"
     ]
    }
   ],
   "source": [
    "#친구 관리 프로그램\n",
    "friend_list=[]\n",
    "while (True):\n",
    "    print('-'*10)\n",
    "    print('1. print your friend')\n",
    "    print('2. add friend')\n",
    "    print('3. delate friend')\n",
    "    print('4. change friend name')\n",
    "    print('9. break')\n",
    "    n = int(input('choose menu'))\n",
    "    if(n==1):\n",
    "      print(friend_list)\n",
    "    elif(n==2):\n",
    "      friend_list.append(input('friend name'))\n",
    "    elif(n==3):\n",
    "      friend = input('friend name')\n",
    "      if friend in friend_list: #list 내부에 해당 value가 존재하는지 검사하는 법\n",
    "        friend_list.remove(friend)\n",
    "    elif(n==4):\n",
    "      friend = input('friend name')\n",
    "      if friend in friend_list:\n",
    "          findex = friend_list.index(friend)\n",
    "          friend_list[findex] = input('new name')\n",
    "    elif(n==9):\n",
    "      break"
   ]
  },
  {
   "cell_type": "code",
   "execution_count": 77,
   "id": "375b38c0-0bb0-4a50-97f0-fb542d8d0841",
   "metadata": {},
   "outputs": [
    {
     "name": "stdout",
     "output_type": "stream",
     "text": [
      "[10, 8, 6, 4, 2]\n",
      "[1]\n"
     ]
    }
   ],
   "source": [
    "#lab: 리스트 슬라이싱\n",
    "numbers = [1,2,3,4,5,6,7,8,9,10]\n",
    "print(numbers[-1:-10:-2])\n",
    "numbers[1:] = []\n",
    "print(numbers)"
   ]
  },
  {
   "cell_type": "code",
   "execution_count": 14,
   "id": "25cd210f-4da7-4a9c-8290-1df8f08fd93b",
   "metadata": {},
   "outputs": [
    {
     "name": "stdout",
     "output_type": "stream",
     "text": [
      "인상전 [200, 250, 300, 280, 500]\n",
      "인상후 [260.0, 325.0, 390.0, 364.0, 650.0]\n"
     ]
    }
   ],
   "source": [
    "#lab: 리스트 변경 함수\n",
    "def modify(uplist):\n",
    "    for i in range(len(uplist)):\n",
    "        uplist[i] = uplist[i]*1.3\n",
    "blist = [200,250,300,280,500]\n",
    "print(\"인상전\",blist)\n",
    "modify(blist)\n",
    "print(\"인상후\",blist)"
   ]
  },
  {
   "cell_type": "code",
   "execution_count": 20,
   "id": "d634b9f0-d658-43aa-a0fa-9e7b06e29263",
   "metadata": {},
   "outputs": [
    {
     "data": {
      "text/plain": [
       "[0, 6, 12, 18, 24, 30, 36, 42, 48, 54, 60, 66, 72, 78, 84, 90, 96]"
      ]
     },
     "execution_count": 20,
     "metadata": {},
     "output_type": "execute_result"
    }
   ],
   "source": [
    "#lab: 리스트 함축 사용하기\n",
    "n_list = [i for i in range(100) if (i%2 ==0 and i%3 ==0)]\n",
    "n_list"
   ]
  },
  {
   "cell_type": "code",
   "execution_count": 29,
   "id": "45a1bac3-789f-40e1-8a3f-0300383a872f",
   "metadata": {},
   "outputs": [
    {
     "name": "stdout",
     "output_type": "stream",
     "text": [
      "[10, 20, 30, 40, 50] [10, 30, 60, 100, 150]\n"
     ]
    }
   ],
   "source": [
    "#lab: 누적값 리스트 만들기\n",
    "b_list = [x for x in range(10, 51, 10)]\n",
    "n_list = [b_list[i]+n_list[i-1] if i>0 else b_list[i] for i in range(0,5)]\n",
    "print(b_list, n_list)"
   ]
  },
  {
   "cell_type": "code",
   "execution_count": 82,
   "id": "d4bd5465-e782-480f-bbb9-f3afdf3a46bc",
   "metadata": {},
   "outputs": [
    {
     "name": "stdout",
     "output_type": "stream",
     "text": [
      "[(3, 4, 5), (5, 12, 13), (6, 8, 10), (7, 24, 25), (8, 15, 17), (9, 12, 15), (10, 24, 26), (12, 16, 20), (15, 20, 25), (20, 21, 29)]\n"
     ]
    }
   ],
   "source": [
    "#lab: 피타고라스 삼각형\n",
    "p_list = [(x,y,z) for x in range(1,30) for y in range(x,30) for z in range(y,30) if x**2+y**2==z**2]\n",
    "print(p_list)"
   ]
  },
  {
   "cell_type": "code",
   "execution_count": 59,
   "id": "c4a6528b-ca23-4289-8159-7832082bb597",
   "metadata": {},
   "outputs": [],
   "source": [
    "#체케보드 만들기\n",
    "def board(matrix):\n",
    "    for r in range(len(matrix)):\n",
    "        for c in range(len(matrix[0])):\n",
    "            if (r+c) % 2 == 0:\n",
    "                matrix[r][c] = 1\n",
    "            else:\n",
    "                matrix[r][c] = 0\n",
    "\n",
    "def print_c(matrix):\n",
    "    for r in range(len(matrix)):\n",
    "        for c in range(len(matrix[0])):\n",
    "            print(matrix[r][c], end=' ')\n",
    "        print()\n",
    "matrix = []\n",
    "for row in range(10):\n",
    "    matrix += [[0]*10]\n",
    "board(matrix)\n",
    "print_c(matrix)"
   ]
  },
  {
   "cell_type": "code",
   "execution_count": 74,
   "id": "b49bf152-5a7c-4d4b-af9e-f07660d843c2",
   "metadata": {},
   "outputs": [
    {
     "name": "stdout",
     "output_type": "stream",
     "text": [
      "원래 행렬= [[1, 2, 3], [4, 5, 6], [7, 8, 9]]\n",
      "전치 행렬= [[1, 4, 7], [2, 5, 8], [3, 6, 9]]\n"
     ]
    }
   ],
   "source": [
    "#lab: 전치 행렬 계산\n",
    "normal = [[1,2,3],[4,5,6],[7,8,9]]\n",
    "t = [[0 for column in range(3)] for row in range(3)]#중첩 반복문 구조 파악(1d list 반복 -> 2d list 반복)\n",
    "print(\"원래 행렬=\", normal)\n",
    "for r in range(len(normal)):\n",
    "    for c in range(len(normal[0])):\n",
    "        t[c][r] = normal[r][c]\n",
    "print(\"전치 행렬=\", t)"
   ]
  }
 ],
 "metadata": {
  "kernelspec": {
   "display_name": "Python 3 (ipykernel)",
   "language": "python",
   "name": "python3"
  },
  "language_info": {
   "codemirror_mode": {
    "name": "ipython",
    "version": 3
   },
   "file_extension": ".py",
   "mimetype": "text/x-python",
   "name": "python",
   "nbconvert_exporter": "python",
   "pygments_lexer": "ipython3",
   "version": "3.13.5"
  }
 },
 "nbformat": 4,
 "nbformat_minor": 5
}
