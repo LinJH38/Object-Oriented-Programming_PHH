{
 "cells": [
  {
   "cell_type": "code",
   "execution_count": 1,
   "id": "b012614c-da3e-44c1-9601-c9a0310c95a1",
   "metadata": {},
   "outputs": [
    {
     "name": "stdout",
     "output_type": "stream",
     "text": [
      "파이썬에 오신 것을 환영합니다.\n",
      "파이썬은 쉽습니다.\n",
      "파이썬으로 빅데이터, 인공지능 프로그램을 작성할 수 있습니다.\n"
     ]
    }
   ],
   "source": [
    "#lab: print()함수 실습\n",
    "print(\"\"\"파이썬에 오신 것을 환영합니다.\n",
    "파이썬은 쉽습니다.\n",
    "파이썬으로 빅데이터, 인공지능 프로그램을 작성할 수 있습니다.\"\"\")"
   ]
  },
  {
   "cell_type": "code",
   "execution_count": 2,
   "id": "3358f2c7-18a8-4339-91e8-7eac5f43aff4",
   "metadata": {},
   "outputs": [
    {
     "name": "stdout",
     "output_type": "stream",
     "text": [
      "2+3= 5\n",
      "2-3= -1\n",
      "2*3= 6\n",
      "2/3= 0.6666666666666666\n"
     ]
    }
   ],
   "source": [
    "#lab: 간단한 계산\n",
    "print(\"2+3=\", 2+3)\n",
    "print(\"2-3=\", 2-3)\n",
    "print(\"2*3=\", 2*3)\n",
    "print(\"2/3=\", 2/3)"
   ]
  },
  {
   "cell_type": "code",
   "execution_count": 3,
   "id": "219ed404-7cf7-4326-a5fa-d2c84d87c4bb",
   "metadata": {},
   "outputs": [
    {
     "name": "stdout",
     "output_type": "stream",
     "text": [
      "안녕하세요?\n",
      "이번 코드에는 많은 오류가 있다네요\n",
      "제가 다 고쳐 보겠습니다.\n"
     ]
    }
   ],
   "source": [
    "#lab: 오류를 처리해보자.\n",
    "print(\"안녕하세요?\")\n",
    "print(\"이번 코드에는 많은 오류가 있다네요\")\n",
    "print(\"제가 다 고쳐 보겠습니다.\")"
   ]
  }
 ],
 "metadata": {
  "kernelspec": {
   "display_name": "Python 3 (ipykernel)",
   "language": "python",
   "name": "python3"
  },
  "language_info": {
   "codemirror_mode": {
    "name": "ipython",
    "version": 3
   },
   "file_extension": ".py",
   "mimetype": "text/x-python",
   "name": "python",
   "nbconvert_exporter": "python",
   "pygments_lexer": "ipython3",
   "version": "3.13.5"
  }
 },
 "nbformat": 4,
 "nbformat_minor": 5
}
