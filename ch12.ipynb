{
 "cells": [
  {
   "cell_type": "code",
   "execution_count": 4,
   "id": "13c2e295-5d6f-4c22-a961-f85ed1c2dc9e",
   "metadata": {},
   "outputs": [
    {
     "name": "stdout",
     "output_type": "stream",
     "text": [
      "BadBank의 이자율:10.0\n",
      "NormalBank의 이자율:5.0\n",
      "GoodBank의 이자율:3.0\n"
     ]
    }
   ],
   "source": [
    "#lab: Bank 클래스\n",
    "class Bank:\n",
    "    def getInterestRate(self):\n",
    "        return 0.0\n",
    "class BadBank(Bank):\n",
    "    def getInterestRate(self):\n",
    "        return 10.0\n",
    "class NormalBank(Bank):\n",
    "    def getInterestRate(self):\n",
    "        return 5.0\n",
    "class GoodBank(Bank):\n",
    "    def getInterestRate(self):\n",
    "        return 3.0\n",
    "\n",
    "b1 = BadBank()\n",
    "b2 = NormalBank()\n",
    "b3 = GoodBank()\n",
    "\n",
    "print(\"BadBank의 이자율:\"+str(b1.getInterestRate()))\n",
    "print(\"NormalBank의 이자율:\"+str(b2.getInterestRate()))\n",
    "print(\"GoodBank의 이자율:\"+str(b3.getInterestRate()))"
   ]
  },
  {
   "cell_type": "code",
   "execution_count": 9,
   "id": "2e6f10b9-3b39-42b5-a9df-e500e3c70fee",
   "metadata": {},
   "outputs": [
    {
     "name": "stdout",
     "output_type": "stream",
     "text": [
      "이름:김철수; 월급:2000000;보너스:1000000\n"
     ]
    }
   ],
   "source": [
    "#lab: 직원과 매니저\n",
    "class Employee:\n",
    "    def __init__(self, name, salary):\n",
    "        self.name = name\n",
    "        self.salary = salary\n",
    "    def getSalary(self):\n",
    "        return self.salary\n",
    "class Manager(Employee):\n",
    "    def __init__(self, name, salary, bonus):\n",
    "        super().__init__(name, salary)\n",
    "        self.bonus = bonus\n",
    "    def getSalary(self):\n",
    "        return super.salary+self.bonus\n",
    "    def __repr__(self):\n",
    "        return \"이름:\"+self.name+\"; 월급:\"+str(self.salary)+\";보너스:\"+str(self.bonus)\n",
    "\n",
    "kim = Manager(\"김철수\", 2000000, 1000000)\n",
    "print(kim)"
   ]
  },
  {
   "cell_type": "code",
   "execution_count": 29,
   "id": "a9a364f6-dda7-486a-81fb-3027bc886c51",
   "metadata": {},
   "outputs": [
    {
     "name": "stdout",
     "output_type": "stream",
     "text": [
      "저축예금의 잔액= 10500.0\n",
      "당좌예금의 잔액= 1890000\n"
     ]
    }
   ],
   "source": [
    "#lab: 은행 계좌\n",
    "class BankAccount:\n",
    "    def __init__(self, name, number, balance):\n",
    "        self.balance = balance\n",
    "        self.name = name\n",
    "        self.number = number\n",
    "    def withdraw(self, amount):\n",
    "        self.balance -= amount\n",
    "        print(f\"잔액:{self.balance}\")\n",
    "    def deposit(self, amount):\n",
    "        self.balance += amount\n",
    "        print(f\"잔액:{self.balance}\")\n",
    "\n",
    "class SavingsAccount(BankAccount):\n",
    "    def __init__(self, name, number, balance, interest_rate):\n",
    "        super().__init__(name, number, balance)\n",
    "        self.interest_rate = interest_rate\n",
    "    def add_interest(self):\n",
    "        self.balance = self.balance*(1+self.interest_rate)\n",
    "        #print(f\"잔액:{self.balance}\")\n",
    "\n",
    "class CheckingAccount(BankAccount):\n",
    "    def __init__(self, name, number, balance, withdraw_charge=10000):\n",
    "        super().__init__(name, number, balance)\n",
    "        self.withdraw_charge = withdraw_charge\n",
    "    def withdraw(self, amount):\n",
    "        self.balance = self.balance-(amount+self.withdraw_charge)\n",
    "        #print(f\"잔액:{self.balance}\")\n",
    "\n",
    "a1 = SavingsAccount(\"홍길동\", 123456, 10000, 0.05)\n",
    "a1.add_interest()\n",
    "print(\"저축예금의 잔액=\", a1.balance)\n",
    "\n",
    "a2 = CheckingAccount(\"김철수\", 123457, 2000000)\n",
    "a2.withdraw(100000)\n",
    "print(\"당좌예금의 잔액=\", a2.balance)"
   ]
  },
  {
   "cell_type": "code",
   "execution_count": 16,
   "id": "1097b12f-02bd-4329-95e5-e0cc569e311d",
   "metadata": {},
   "outputs": [
    {
     "name": "stdout",
     "output_type": "stream",
     "text": [
      "truck1: 트럭을 운전합니다.\n",
      "truck2: 트럭을 운전합니다.\n",
      "car1: 승용차를 운전합니다.\n"
     ]
    }
   ],
   "source": [
    "#lab: Vehicle과 Car, Truck\n",
    "class Vehicle:\n",
    "    def __init__(self,name):\n",
    "        self.name = name\n",
    "    def drive(self):\n",
    "        raise NotImplementedError(\"이것은 추상메소드입니다.\")\n",
    "    def stop(self):\n",
    "        raise NotImplementedError(\"이것은 추상메소드입니다.\")\n",
    "        \n",
    "class Car(Vehicle):\n",
    "    def drive(self):\n",
    "        return '승용차를 운전합니다.'\n",
    "    def stop(self):\n",
    "        return '승용차를 정지합니다.'\n",
    "        \n",
    "class Truck(Vehicle):\n",
    "    def drive(self):\n",
    "        return '트럭을 운전합니다.'\n",
    "    def stop(self):\n",
    "        return '트럭을 정지합니다.'\n",
    "\n",
    "cars = [Truck('truck1'), Truck('truck2'), Car('car1')]\n",
    "for c in cars:\n",
    "    print(c.name+\": \"+c.drive())"
   ]
  },
  {
   "cell_type": "code",
   "execution_count": 18,
   "id": "e276d3b6-dd74-4821-b8d7-ec6c9254036a",
   "metadata": {},
   "outputs": [
    {
     "name": "stdout",
     "output_type": "stream",
     "text": [
      "이름=홍길동\n",
      "주민번호=12345678\n",
      "수강과목=자료구조\n",
      "평점=0\n",
      "이름=김철수\n",
      "주민번호=1234567890\n",
      "강의과목=Python\n",
      "월급=3000000\n"
     ]
    }
   ],
   "source": [
    "#lab: 학생과 강사\n",
    "class Person:\n",
    "    def __init__(self, name, pid):\n",
    "        self.name = name\n",
    "        self.pid = pid\n",
    "    def __repr__(self):\n",
    "        raise NotImplementedError('정의가 안 됨')\n",
    "        \n",
    "class Student(Person):\n",
    "    def __init__(self, name, pid, sugang, gpa):\n",
    "        super().__init__(name, pid)\n",
    "        self.sugang = sugang\n",
    "        self.gpa = gpa\n",
    "    def __repr__(self):\n",
    "        return \"이름=\"+self.name+'\\n주민번호='+str(self.pid)+'\\n수강과목='+self.sugang+'\\n평점='+str(self.gpa)\n",
    "\n",
    "class Teacher(Person):\n",
    "    def __init__(self, name, pid, lecture, salary):\n",
    "        super().__init__(name, pid)\n",
    "        self.lecture = lecture\n",
    "        self.salary = salary\n",
    "    def __repr__(self):\n",
    "        return \"이름=\"+self.name+'\\n주민번호='+str(self.pid)+'\\n강의과목='+self.lecture+'\\n월급='+str(self.salary)\n",
    "\n",
    "school = [Student('홍길동',12345678,'자료구조',0), Teacher('김철수',1234567890,'Python',3000000)]\n",
    "\n",
    "for p in school:\n",
    "    print(p)"
   ]
  }
 ],
 "metadata": {
  "kernelspec": {
   "display_name": "Python 3 (ipykernel)",
   "language": "python",
   "name": "python3"
  },
  "language_info": {
   "codemirror_mode": {
    "name": "ipython",
    "version": 3
   },
   "file_extension": ".py",
   "mimetype": "text/x-python",
   "name": "python",
   "nbconvert_exporter": "python",
   "pygments_lexer": "ipython3",
   "version": "3.13.5"
  }
 },
 "nbformat": 4,
 "nbformat_minor": 5
}
