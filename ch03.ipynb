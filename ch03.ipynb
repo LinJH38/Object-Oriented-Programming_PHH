{
 "cells": [
  {
   "cell_type": "code",
   "execution_count": 1,
   "id": "f419d07c-86f6-406a-9df9-264f77ff9809",
   "metadata": {},
   "outputs": [
    {
     "name": "stdin",
     "output_type": "stream",
     "text": [
      "65+3 68\n"
     ]
    },
    {
     "name": "stdout",
     "output_type": "stream",
     "text": [
      "True\n"
     ]
    }
   ],
   "source": [
    "#lab: 산술 퀴즈 프로그램\n",
    "import random\n",
    "x = random.randint(1,99)\n",
    "y = random.randint(1,99)\n",
    "ans = int(input(str(x)+\"+\"+str(y)))\n",
    "ans = (ans == (x+y))\n",
    "print(ans)"
   ]
  },
  {
   "cell_type": "code",
   "execution_count": 5,
   "id": "cb0bc574-f982-49c9-bb63-7011fa2b97e0",
   "metadata": {},
   "outputs": [
    {
     "name": "stdin",
     "output_type": "stream",
     "text": [
      "정수를 입력하시오: 11\n"
     ]
    },
    {
     "name": "stdout",
     "output_type": "stream",
     "text": [
      "홀수입니다.\n"
     ]
    }
   ],
   "source": [
    "#lab: 짝수 홀수 검사 프로그램\n",
    "n = int(input(\"정수를 입력하시오:\"))\n",
    "ans = (\"짝수\" if n%2 == 0 else \"홀수\")\n",
    "print(ans+\"입니다.\")"
   ]
  },
  {
   "cell_type": "code",
   "execution_count": 9,
   "id": "e8029377-e644-4a7b-98ff-5ae59e613a63",
   "metadata": {},
   "outputs": [
    {
     "name": "stdin",
     "output_type": "stream",
     "text": [
      "정가를 입력하시오: 80\n"
     ]
    },
    {
     "name": "stdout",
     "output_type": "stream",
     "text": [
      "할인된 가격= 72.0\n"
     ]
    }
   ],
   "source": [
    "#lab: 세일 가격 계산\n",
    "total = int(input(\"정가를 입력하시오:\"))\n",
    "if total >= 100:\n",
    "    print(\"10층에서 사은품을 받아가세요.\")\n",
    "    total = total - ((total/100)*15)\n",
    "    print(\"할인된 가격=\", \"%.1f\" %total)\n",
    "else:\n",
    "    total = total - ((total/100)*10)\n",
    "    print(\"할인된 가격=\", \"%.1f\" %total)"
   ]
  },
  {
   "cell_type": "code",
   "execution_count": 12,
   "id": "d5d4208f-a7e3-42ca-b940-8909b501107b",
   "metadata": {},
   "outputs": [
    {
     "name": "stdin",
     "output_type": "stream",
     "text": [
      "온도를 입력하시오: -9\n"
     ]
    },
    {
     "name": "stdout",
     "output_type": "stream",
     "text": [
      "물의 상태는 고체입니다.\n"
     ]
    }
   ],
   "source": [
    "#lab: 물의 상태 출력하기\n",
    "c = int(input(\"온도를 입력하시오:\"))\n",
    "if c<0:\n",
    "    print(\"물의 상태는 고체입니다.\")\n",
    "elif c>100:\n",
    "    print(\"물의 상태는 기체입니다.\")\n",
    "else:\n",
    "    print(\"물의 상태는 액체입니다.\")"
   ]
  },
  {
   "cell_type": "code",
   "execution_count": 20,
   "id": "771ccf4f-d25a-4ba0-bfce-7c4fd3dfbb1b",
   "metadata": {},
   "outputs": [
    {
     "name": "stdout",
     "output_type": "stream",
     "text": [
      "동전 던지기 게임을 시작합니다.\n",
      "앞면입니다.\n",
      "앞면입니다.\n",
      "뒷면입니다.\n",
      "게임이 종료되었습니다.\n"
     ]
    }
   ],
   "source": [
    "#lab: 동전 던지기 게임\n",
    "from random import randint\n",
    "print(\"동전 던지기 게임을 시작합니다.\")\n",
    "coin = 1\n",
    "for i in range(0,11,1):\n",
    "    coin = randint(1,100) % 2\n",
    "    if(coin == 0):\n",
    "        print(\"뒷면입니다.\")\n",
    "        break\n",
    "    else:\n",
    "        print(\"앞면입니다.\")\n",
    "print(\"게임이 종료되었습니다.\")"
   ]
  },
  {
   "cell_type": "code",
   "execution_count": 25,
   "id": "ba595c9e-af7b-4f8a-ac4c-28c8bb4ce53e",
   "metadata": {},
   "outputs": [
    {
     "name": "stdin",
     "output_type": "stream",
     "text": [
      "리히터 규모를 입력하시오: 9.5\n"
     ]
    },
    {
     "name": "stdout",
     "output_type": "stream",
     "text": [
      "대부분의 구조물이 파괴됩니다.\n"
     ]
    }
   ],
   "source": [
    "#lab: 리히터 규모\n",
    "m = float(input(\"리히터 규모를 입력하시오:\"))\n",
    "if m < 2.0:\n",
    "    print(\"지진계에 의해서만 탐지 가능합니다.\")\n",
    "elif 2.0<=m and m < 4.0:\n",
    "    print(\"물건들이 흔들리거나 떨어집니다.\")\n",
    "elif 4.0<=m and m < 7.0:\n",
    "    print(\"빈약한 건물에 피해가 있습니다.\")\n",
    "elif 7.0<=m and m < 8.0:\n",
    "    print(\"지표면에 균열이 발생합니다.\")\n",
    "else:\n",
    "    print(\"대부분의 구조물이 파괴됩니다.\")"
   ]
  },
  {
   "cell_type": "code",
   "execution_count": 32,
   "id": "adc1e2cd-eaf9-4daa-a0ac-0059586306ec",
   "metadata": {},
   "outputs": [
    {
     "name": "stdout",
     "output_type": "stream",
     "text": [
      "==========\n",
      "메뉴 1번: 치즈버거\n",
      "메뉴 2번: 치킨 버거\n",
      "메뉴 3번: 불고기 버거\n",
      "==========\n"
     ]
    },
    {
     "name": "stdin",
     "output_type": "stream",
     "text": [
      "메뉴를 선택하세요: 5\n"
     ]
    },
    {
     "name": "stdout",
     "output_type": "stream",
     "text": [
      "잘못 입력하셨습니다.\n"
     ]
    }
   ],
   "source": [
    "#lab: 사용자 입력 검증하기\n",
    "print(\"=\"*10)\n",
    "print(\"\"\"메뉴 1번: 치즈버거\n",
    "메뉴 2번: 치킨 버거\n",
    "메뉴 3번: 불고기 버거\"\"\")\n",
    "print(\"=\"*10)\n",
    "menu = int(input(\"메뉴를 선택하세요:\"))\n",
    "if(menu==1):\n",
    "    print(\"치즈버거\")\n",
    "elif(menu==2):\n",
    "    print(\"치킨버거\")\n",
    "elif(menu==3):\n",
    "    print(\"불고기버거\")\n",
    "else:\n",
    "    print(\"잘못 입력하셨습니다.\")"
   ]
  },
  {
   "cell_type": "code",
   "execution_count": 40,
   "id": "0e493510-36bb-47f1-a0fe-471e2a63c48c",
   "metadata": {},
   "outputs": [
    {
     "name": "stdin",
     "output_type": "stream",
     "text": [
      "어디를 공격하시겠어요?(왼쪽: 1, 중앙: 2, 오른쪽: 3) 3\n"
     ]
    },
    {
     "name": "stdout",
     "output_type": "stream",
     "text": [
      "패널티킥이 성공하였습니다.\n"
     ]
    }
   ],
   "source": [
    "#lab: 축구게임\n",
    "import random\n",
    "g = random.randint(1,3)\n",
    "a = int(input(\"어디를 공격하시겠어요?(왼쪽: 1, 중앙: 2, 오른쪽: 3)\"))\n",
    "if(g != a):\n",
    "    print(\"패널티킥이 성공하였습니다.\")\n",
    "else:\n",
    "    print(\"패널티킥이 실패하였습니다.\")"
   ]
  },
  {
   "cell_type": "code",
   "execution_count": 42,
   "id": "586af47b-88a3-4391-864c-c32207ada740",
   "metadata": {},
   "outputs": [
    {
     "name": "stdin",
     "output_type": "stream",
     "text": [
      "삼각형의 한 변을 입력하시오: 2\n",
      "삼각형의 한 변을 입력하시오: 1\n",
      "삼각형의 한 변을 입력하시오: 1\n"
     ]
    },
    {
     "name": "stdout",
     "output_type": "stream",
     "text": [
      "잘못된 삼각형\n"
     ]
    }
   ],
   "source": [
    "#lab: 올바른 삼각형 구분\n",
    "a = int(input(\"삼각형의 한 변을 입력하시오:\"))\n",
    "b = int(input(\"삼각형의 한 변을 입력하시오:\"))\n",
    "c = int(input(\"삼각형의 한 변을 입력하시오:\"))\n",
    "\n",
    "if a+b>c and a+c>b and b+c>a:\n",
    "    print(\"올바른 삼각형\")\n",
    "else:\n",
    "    print(\"잘못된 삼각형\")"
   ]
  }
 ],
 "metadata": {
  "kernelspec": {
   "display_name": "Python 3 (ipykernel)",
   "language": "python",
   "name": "python3"
  },
  "language_info": {
   "codemirror_mode": {
    "name": "ipython",
    "version": 3
   },
   "file_extension": ".py",
   "mimetype": "text/x-python",
   "name": "python",
   "nbconvert_exporter": "python",
   "pygments_lexer": "ipython3",
   "version": "3.13.5"
  }
 },
 "nbformat": 4,
 "nbformat_minor": 5
}
