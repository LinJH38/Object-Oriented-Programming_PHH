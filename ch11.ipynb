{
 "cells": [
  {
   "cell_type": "code",
   "execution_count": 8,
   "id": "6ad27f53-408e-4959-92cb-1adafe00f3cc",
   "metadata": {},
   "outputs": [
    {
     "name": "stdout",
     "output_type": "stream",
     "text": [
      "파티에 한 명이라도 오는가? True\n",
      "전부 오는가? False\n",
      "가장 많이 오는 그룹: 6\n"
     ]
    }
   ],
   "source": [
    "#lab: 내장 함수 예제\n",
    "invitations = [\"Kim\", \"Lee\", \"Park\", \"Choi\"]\n",
    "persons = [1,3,0,6]\n",
    "\n",
    "participation = any(persons)\n",
    "print(\"파티에 한 명이라도 오는가?\", participation)\n",
    "print(\"전부 오는가?\", all(persons))\n",
    "print(\"가장 많이 오는 그룹:\", max(persons))"
   ]
  },
  {
   "cell_type": "code",
   "execution_count": 17,
   "id": "ef8b3c2c-574d-40b1-bafe-9338c4637cfc",
   "metadata": {},
   "outputs": [
    {
     "name": "stdout",
     "output_type": "stream",
     "text": [
      "[<이름: 홍길동, 나이: 20>, <이름: 김철수, 나이: 35>, <이름: 최자영, 나이: 38>]\n"
     ]
    }
   ],
   "source": [
    "#lab: 키를 이용한 정렬 예제\n",
    "class person:\n",
    "    def __init__(self, name, age):\n",
    "        self.name = name\n",
    "        self.age = age\n",
    "    def __repr__(self):\n",
    "        return f\"<이름: {self.name}, 나이: {self.age}>\"\n",
    "\n",
    "def age(person):\n",
    "    return person.age\n",
    "plist = [person(\"홍길동\", 20), person(\"김철수\", 35), person(\"최자영\", 38)]\n",
    "print(sorted(plist, key = age))"
   ]
  },
  {
   "cell_type": "code",
   "execution_count": 20,
   "id": "f2d1f13c-bedc-4dbc-8585-59678c4f4443",
   "metadata": {},
   "outputs": [
    {
     "name": "stdout",
     "output_type": "stream",
     "text": [
      "[-17.77777777777778, -12.222222222222223, -6.666666666666667, -1.1111111111111112, 4.444444444444445, 10.0]\n"
     ]
    }
   ],
   "source": [
    "#lab: 람다식으로 온도 변환하기\n",
    "f_temp = [0, 10, 20, 30, 40, 50]\n",
    "c_temp = list(map(lambda x:((5.0/9.0)*(x-32.0)), f_temp))\n",
    "print(c_temp)"
   ]
  },
  {
   "cell_type": "code",
   "execution_count": 27,
   "id": "aecfbc2b-e8b8-4335-b813-b64238e59215",
   "metadata": {},
   "outputs": [
    {
     "name": "stdout",
     "output_type": "stream",
     "text": [
      "[('1', 600000), ('2', 144000), ('3', 150000), ('4', 1800000)]\n"
     ]
    }
   ],
   "source": [
    "#lab: 람다식으로 데이터 처리하기\n",
    "orders = [[\"1\", \"재킷\", 5, 120000],\n",
    "          [\"2\", \"셔츠\", 6, 24000],\n",
    "          [\"3\", \"바지\", 3, 50000],\n",
    "          [\"4\",\"코트\", 6, 300000]]\n",
    "sale_list = list(map(lambda x:x[2]*x[3], orders))#이런 방식이 되네(x[a])형식\n",
    "#results = list(enumerate(sale_list, start = 1))\n",
    "orders = [\"1\", \"2\", \"3\", \"4\"]\n",
    "results = list(zip(orders, sale_list))\n",
    "print(results)"
   ]
  },
  {
   "cell_type": "code",
   "execution_count": 2,
   "id": "78cbbe9d-dc2f-46a4-8f62-16a351ea0af3",
   "metadata": {},
   "outputs": [
    {
     "name": "stdin",
     "output_type": "stream",
     "text": [
      "동전 던지기를 계속하시겠습니까?(yes, no) yes\n"
     ]
    },
    {
     "name": "stdout",
     "output_type": "stream",
     "text": [
      "head\n"
     ]
    },
    {
     "name": "stdin",
     "output_type": "stream",
     "text": [
      "동전 던지기를 계속하시겠습니까?(yes, no) yes\n"
     ]
    },
    {
     "name": "stdout",
     "output_type": "stream",
     "text": [
      "tail\n"
     ]
    },
    {
     "name": "stdin",
     "output_type": "stream",
     "text": [
      "동전 던지기를 계속하시겠습니까?(yes, no) yes\n"
     ]
    },
    {
     "name": "stdout",
     "output_type": "stream",
     "text": [
      "head\n"
     ]
    },
    {
     "name": "stdin",
     "output_type": "stream",
     "text": [
      "동전 던지기를 계속하시겠습니까?(yes, no) no\n"
     ]
    }
   ],
   "source": [
    "#lab: 동전 던지기 게임\n",
    "import random\n",
    "selection = 'yes'\n",
    "while True:\n",
    "    selection = input(\"동전 던지기를 계속하시겠습니까?(yes, no)\")\n",
    "    if selection == 'no':\n",
    "        break\n",
    "    coin = random.randint(0,1)\n",
    "    print('head' if coin == 1 else 'tail')"
   ]
  }
 ],
 "metadata": {
  "kernelspec": {
   "display_name": "Python 3 (ipykernel)",
   "language": "python",
   "name": "python3"
  },
  "language_info": {
   "codemirror_mode": {
    "name": "ipython",
    "version": 3
   },
   "file_extension": ".py",
   "mimetype": "text/x-python",
   "name": "python",
   "nbconvert_exporter": "python",
   "pygments_lexer": "ipython3",
   "version": "3.13.5"
  }
 },
 "nbformat": 4,
 "nbformat_minor": 5
}
