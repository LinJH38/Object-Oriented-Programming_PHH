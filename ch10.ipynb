{
 "cells": [
  {
   "cell_type": "code",
   "execution_count": 5,
   "id": "8feadcbd-3f62-4cc0-895e-5f724bbbdf49",
   "metadata": {},
   "outputs": [],
   "source": [
    "#lab: 매출 파일 처리(전처리)\n",
    "sales_file = open(\"sales.txt\", \"w\")\n",
    "sales_file.write(\"1000000\\n\")\n",
    "sales_file.write(\"1000000\\n\")\n",
    "sales_file.write(\"1000000\\n\")\n",
    "sales_file.write(\"500000\\n\")\n",
    "sales_file.write(\"1500000\\n\")\n",
    "sales_file.close()"
   ]
  },
  {
   "cell_type": "code",
   "execution_count": 18,
   "id": "ba1fd73d-db56-4cef-a2a6-e0a7987aa71a",
   "metadata": {},
   "outputs": [],
   "source": [
    "#lab: 매출 파일 처리\n",
    "sales_file = open(\"sales.txt\", \"r\")\n",
    "lines = sales_file.readline().rstrip()\n",
    "sales_list=[]\n",
    "while lines != \"\":\n",
    "    sales_list.append(lines)\n",
    "    lines = sales_file.readline().rstrip()\n",
    "sales_intlist = [int(x) for x in sales_list]\n",
    "sales_file.close()\n",
    "total = sum(sales_intlist)\n",
    "avg = sum(sales_intlist)/len(sales_intlist)\n",
    "\n",
    "summary_file = open(\"summary.txt\", \"w\")\n",
    "summary_file.write(f\"총매출 = {total}\\n\")\n",
    "summary_file.write(f\"평균 일매출 = {avg}\")\n",
    "summary_file.close()"
   ]
  },
  {
   "cell_type": "code",
   "execution_count": 17,
   "id": "0c19f51f-c454-4b7d-906e-11d4d7e50659",
   "metadata": {},
   "outputs": [
    {
     "ename": "SyntaxError",
     "evalue": "invalid syntax (371467183.py, line 6)",
     "output_type": "error",
     "traceback": [
      "\u001b[1;36m  Cell \u001b[1;32mIn[17], line 6\u001b[1;36m\u001b[0m\n\u001b[1;33m    if ch is not in engcounter_dic:\u001b[0m\n\u001b[1;37m                 ^\u001b[0m\n\u001b[1;31mSyntaxError\u001b[0m\u001b[1;31m:\u001b[0m invalid syntax\n"
     ]
    }
   ],
   "source": [
    "#lab: 각 문자 횟수 세기\n",
    "ch_file = open(\"~.txt\", \"r\")\n",
    "engcounter_dic = {}\n",
    "ch = ch_file.read(1)\n",
    "while ch != \"\":\n",
    "    if ch is not in engcounter_dic:\n",
    "        engcounter_dic[ch] = 1\n",
    "    else:\n",
    "        engcounter_dic[ch] += 1\n",
    "print(engcounter_dic)\n",
    "ch_file.close()"
   ]
  },
  {
   "cell_type": "code",
   "execution_count": 19,
   "id": "99782f47-722d-4617-9b6e-71bf8d31fd04",
   "metadata": {},
   "outputs": [],
   "source": [
    "#lab: 디렉토리 안의 파일 처리(전처리)\n",
    "summary2_file = open(\"summary2.txt\",\"w\")\n",
    "summary2_file.write(\"The joy of coding Python should be in seeing short\\n\")\n",
    "summary2_file.write(\"Python is executable pseudocode.\\n\")\n",
    "summary2_file.write(\"lim jae hyun 38\")\n",
    "summary2_file.close()"
   ]
  },
  {
   "cell_type": "code",
   "execution_count": 21,
   "id": "de9280c3-47f9-416a-93a9-30de2f84076e",
   "metadata": {},
   "outputs": [
    {
     "ename": "AttributeError",
     "evalue": "module 'ntpath' has no attribute 'listdir'",
     "output_type": "error",
     "traceback": [
      "\u001b[1;31m---------------------------------------------------------------------------\u001b[0m",
      "\u001b[1;31mAttributeError\u001b[0m                            Traceback (most recent call last)",
      "Cell \u001b[1;32mIn[21], line 4\u001b[0m\n\u001b[0;32m      2\u001b[0m \u001b[38;5;28;01mimport\u001b[39;00m\u001b[38;5;250m \u001b[39m\u001b[38;5;21;01mos\u001b[39;00m\n\u001b[0;32m      3\u001b[0m \u001b[38;5;28mdir\u001b[39m \u001b[38;5;241m=\u001b[39m os\u001b[38;5;241m.\u001b[39mgetcwd()\n\u001b[1;32m----> 4\u001b[0m \u001b[38;5;28;01mfor\u001b[39;00m file_name \u001b[38;5;129;01min\u001b[39;00m os\u001b[38;5;241m.\u001b[39mpath\u001b[38;5;241m.\u001b[39mlistdir():\n\u001b[0;32m      5\u001b[0m     \u001b[38;5;28mprint\u001b[39m(file_name)\n",
      "\u001b[1;31mAttributeError\u001b[0m: module 'ntpath' has no attribute 'listdir'"
     ]
    }
   ],
   "source": [
    "#lab: 디렉토리 안의 파일 처리\n",
    "import os\n",
    "dir = os.getcwd()\n",
    "for file_name in os.path.listdir():\n",
    "    print(file_name)"
   ]
  }
 ],
 "metadata": {
  "kernelspec": {
   "display_name": "Python 3 (ipykernel)",
   "language": "python",
   "name": "python3"
  },
  "language_info": {
   "codemirror_mode": {
    "name": "ipython",
    "version": 3
   },
   "file_extension": ".py",
   "mimetype": "text/x-python",
   "name": "python",
   "nbconvert_exporter": "python",
   "pygments_lexer": "ipython3",
   "version": "3.13.5"
  }
 },
 "nbformat": 4,
 "nbformat_minor": 5
}
